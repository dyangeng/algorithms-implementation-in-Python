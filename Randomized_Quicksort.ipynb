{
  "nbformat": 4,
  "nbformat_minor": 0,
  "metadata": {
    "colab": {
      "name": "Randomized Quicksort.ipynb",
      "provenance": [],
      "authorship_tag": "ABX9TyMQUGECJsreFBRTUGIeMurF",
      "include_colab_link": true
    },
    "kernelspec": {
      "name": "python3",
      "display_name": "Python 3"
    },
    "language_info": {
      "name": "python"
    }
  },
  "cells": [
    {
      "cell_type": "markdown",
      "metadata": {
        "id": "view-in-github",
        "colab_type": "text"
      },
      "source": [
        "<a href=\"https://colab.research.google.com/github/dyangeng/algorithms-implementation-in-Python/blob/main/Randomized_Quicksort.ipynb\" target=\"_parent\"><img src=\"https://colab.research.google.com/assets/colab-badge.svg\" alt=\"Open In Colab\"/></a>"
      ]
    },
    {
      "cell_type": "code",
      "execution_count": 4,
      "metadata": {
        "colab": {
          "base_uri": "https://localhost:8080/"
        },
        "id": "z5lBpDiCbHJS",
        "outputId": "7c4ebffb-5a18-4470-d5f3-b378d7a4d8bb"
      },
      "outputs": [
        {
          "output_type": "stream",
          "name": "stdout",
          "text": [
            "[9, 5, 4, 2, 8, 1, 3, 6, 10]\n",
            "[6, 5, 4, 2, 8, 1, 3, 9, 10]\n",
            "[6, 5, 4, 2, 3, 1, 8, 9, 10]\n",
            "[1, 5, 4, 2, 3, 6, 8, 9, 10]\n",
            "[1, 5, 4, 2, 3, 6, 8, 9, 10]\n",
            "[1, 3, 4, 2, 5, 6, 8, 9, 10]\n",
            "[1, 3, 2, 4, 5, 6, 8, 9, 10]\n",
            "[1, 2, 3, 4, 5, 6, 8, 9, 10]\n"
          ]
        },
        {
          "output_type": "execute_result",
          "data": {
            "text/plain": [
              "[1, 2, 3, 4, 5, 6, 8, 9, 10]"
            ]
          },
          "metadata": {},
          "execution_count": 4
        }
      ],
      "source": [
        "import math\n",
        "data = [9,5,4,2,8,1,10,6,3] \n",
        "\n",
        "def randomized_partition (A, p, r):\n",
        "  i = math.random(p, r)\n",
        "  A[r], A[i] = A[i], A[r]\n",
        "  return partision(A, p, r)\n",
        "\n",
        "def partision(data, left, right):\n",
        "  pivot = data[left]\n",
        "  lIndex  = left + 1\n",
        "  rIndex = right\n",
        "  while True:\n",
        "    while lIndex <= rIndex and data[lIndex] <= pivot:\n",
        "      lIndex += 1\n",
        "    while rIndex >= lIndex and data[rIndex] >= pivot:\n",
        "      rIndex -= 1\n",
        "    if rIndex <= lIndex:\n",
        "      break\n",
        "    data[lIndex], data[rIndex] = \\\n",
        "      data[rIndex] , data[lIndex]\n",
        "    print(data)\n",
        "\n",
        "  data[left], data[rIndex] = data[rIndex], data[left]\n",
        "  print(data)\n",
        "  return rIndex\n",
        "\n",
        "def quickSort(data, left, right):\n",
        "  if right <= left:\n",
        "    return\n",
        "  else:\n",
        "    pivot = partision(data, left, right)\n",
        "    quickSort(data, left, pivot - 1)\n",
        "    quickSort(data, pivot + 1, right)\n",
        "  \n",
        "  return data\n",
        "\n",
        "def randomized_quicksort(A, p, r):\n",
        "  if (p < r):\n",
        "    q = randomized_partition(A, p, r)\n",
        "    randomized_quicksort(A, p, q-1)\n",
        "    randomized_quicksort(A, q + 1, r)\n",
        "\n",
        "quickSort(data, 0, len(data) - 1)"
      ]
    }
  ]
}