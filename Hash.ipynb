{
  "nbformat": 4,
  "nbformat_minor": 0,
  "metadata": {
    "colab": {
      "name": "Untitled0.ipynb",
      "provenance": [],
      "authorship_tag": "ABX9TyPsDHFwkuUhY4RHlhKksOHQ",
      "include_colab_link": true
    },
    "kernelspec": {
      "name": "python3",
      "display_name": "Python 3"
    },
    "language_info": {
      "name": "python"
    }
  },
  "cells": [
    {
      "cell_type": "markdown",
      "metadata": {
        "id": "view-in-github",
        "colab_type": "text"
      },
      "source": [
        "<a href=\"https://colab.research.google.com/github/dyangeng/algorithms-implementation-in-Python/blob/main/Hash.ipynb\" target=\"_parent\"><img src=\"https://colab.research.google.com/assets/colab-badge.svg\" alt=\"Open In Colab\"/></a>"
      ]
    },
    {
      "cell_type": "code",
      "execution_count": 1,
      "metadata": {
        "id": "_tIe_Xq-ApyJ",
        "colab": {
          "base_uri": "https://localhost:8080/"
        },
        "outputId": "51c4af3e-ea91-462c-eb69-c61658bb608c"
      },
      "outputs": [
        {
          "output_type": "stream",
          "name": "stdout",
          "text": [
            "Before: [10, 4, 10, 14, 7, 9, 3, 2, 8, 1]\n",
            "After: [1, 2, 3, 4, 7, 8, 9, 10, 10, 14]\n"
          ]
        }
      ],
      "source": [
        "def max_heapify(A, heap_size, i):\n",
        "  l = 2 * i + 1\n",
        "  r = l + 1\n",
        "\n",
        "  idx_largest = i\n",
        "  if l < heap_size and A[l] > A[idx_largest]:\n",
        "    idx_largest = l\n",
        "  if r < heap_size and A[r] > A[idx_largest]:\n",
        "    idx_largest = r\n",
        "\n",
        "  if idx_largest != i:\n",
        "    A[i], A[idx_largest] = A[idx_largest], A[i]\n",
        "    max_heapify(A, heap_size, idx_largest)\n",
        "\n",
        "\n",
        "def build_max_heap(A, heap_size):\n",
        "  for i in range(heap_size // 2, -1, -1):\n",
        "    max_heapify(A, heap_size, i)\n",
        "\n",
        "\n",
        "def heap_sort(A):\n",
        "  heap_size = len(A)\n",
        "  build_max_heap(A, heap_size)\n",
        "  for i in range(heap_size - 1, 0, -1):\n",
        "    A[0], A[i] = A[i], A[0]\n",
        "    heap_size -= 1\n",
        "    build_max_heap(A, heap_size)\n",
        "\n",
        "\n",
        "arr = [10, 4, 10, 14, 7, 9, 3, 2, 8, 1]\n",
        "print(\"Before:\", arr)\n",
        "heap_sort(arr)\n",
        "print(\"After:\", arr)\n",
        "    \n",
        "\n"
      ]
    },
    {
      "cell_type": "code",
      "source": [
        "import sys\n",
        "  \n",
        "class MaxHeap:\n",
        "  \n",
        "    def __init__(self, maxsize):\n",
        "          \n",
        "        self.maxsize = maxsize\n",
        "        self.size = 0\n",
        "        self.Heap = [0] * (self.maxsize + 1)\n",
        "        self.Heap[0] = sys.maxsize\n",
        "        self.FRONT = 1\n",
        "  \n",
        "    # Function to return the position of\n",
        "    # parent for the node currently\n",
        "    # at pos\n",
        "    def parent(self, pos):\n",
        "          \n",
        "        return pos // 2\n",
        "  \n",
        "    # Function to return the position of\n",
        "    # the left child for the node currently\n",
        "    # at pos\n",
        "    def leftChild(self, pos):\n",
        "          \n",
        "        return 2 * pos\n",
        "  \n",
        "    # Function to return the position of\n",
        "    # the right child for the node currently\n",
        "    # at pos\n",
        "    def rightChild(self, pos):\n",
        "          \n",
        "        return (2 * pos) + 1\n",
        "  \n",
        "    # Function that returns true if the passed\n",
        "    # node is a leaf node\n",
        "    def isLeaf(self, pos):\n",
        "          \n",
        "        if pos >= (self.size//2) and pos <= self.size:\n",
        "            return True\n",
        "        return False\n",
        "  \n",
        "    # Function to swap two nodes of the heap\n",
        "    def swap(self, fpos, spos):\n",
        "          \n",
        "        self.Heap[fpos], self.Heap[spos] = (self.Heap[spos], \n",
        "                                            self.Heap[fpos])\n",
        "  \n",
        "    # Function to heapify the node at pos\n",
        "    def maxHeapify(self, pos):\n",
        "  \n",
        "        # If the node is a non-leaf node and smaller\n",
        "        # than any of its child\n",
        "        if not self.isLeaf(pos):\n",
        "            if (self.Heap[pos] < self.Heap[self.leftChild(pos)] or\n",
        "                self.Heap[pos] < self.Heap[self.rightChild(pos)]):\n",
        "  \n",
        "                # Swap with the left child and heapify\n",
        "                # the left child\n",
        "                if (self.Heap[self.leftChild(pos)] > \n",
        "                    self.Heap[self.rightChild(pos)]):\n",
        "                    self.swap(pos, self.leftChild(pos))\n",
        "                    self.maxHeapify(self.leftChild(pos))\n",
        "  \n",
        "                # Swap with the right child and heapify\n",
        "                # the right child\n",
        "                else:\n",
        "                    self.swap(pos, self.rightChild(pos))\n",
        "                    self.maxHeapify(self.rightChild(pos))\n",
        "  \n",
        "    # Function to insert a node into the heap\n",
        "    def insert(self, element):\n",
        "          \n",
        "        if self.size >= self.maxsize:\n",
        "            return\n",
        "        self.size += 1\n",
        "        self.Heap[self.size] = element\n",
        "  \n",
        "        current = self.size\n",
        "  \n",
        "        while (self.Heap[current] > \n",
        "               self.Heap[self.parent(current)]):\n",
        "            self.swap(current, self.parent(current))\n",
        "            current = self.parent(current)\n",
        "  \n",
        "    # Function to print the contents of the heap\n",
        "    def Print(self):\n",
        "          \n",
        "        for i in range(1, (self.size // 2) + 1):\n",
        "            print(\" PARENT : \" + str(self.Heap[i]) + \n",
        "                  \" LEFT CHILD : \" + str(self.Heap[2 * i]) +\n",
        "                  \" RIGHT CHILD : \" + str(self.Heap[2 * i + 1]))\n",
        "  \n",
        "    # Function to remove and return the maximum\n",
        "    # element from the heap\n",
        "    def extractMax(self):\n",
        "  \n",
        "        popped = self.Heap[self.FRONT]\n",
        "        self.Heap[self.FRONT] = self.Heap[self.size]\n",
        "        self.size -= 1\n",
        "        self.maxHeapify(self.FRONT)\n",
        "          \n",
        "        return popped\n",
        "  \n",
        "# Driver Code\n",
        "if __name__ == \"__main__\":\n",
        "      \n",
        "    print('The maxHeap is ')\n",
        "      \n",
        "    maxHeap = MaxHeap(15)\n",
        "    maxHeap.insert(5)\n",
        "    maxHeap.insert(3)\n",
        "    maxHeap.insert(17)\n",
        "    maxHeap.insert(10)\n",
        "    maxHeap.insert(84)\n",
        "    maxHeap.insert(19)\n",
        "    maxHeap.insert(6)\n",
        "    maxHeap.insert(22)\n",
        "    maxHeap.insert(9)\n",
        "  \n",
        "    maxHeap.Print()\n",
        "      \n",
        "    print(\"The Max val is \" + str(maxHeap.extractMax()))"
      ],
      "metadata": {
        "colab": {
          "base_uri": "https://localhost:8080/"
        },
        "id": "_wuwCFEyDNYn",
        "outputId": "2496f337-6097-463e-edef-87522fe4420d"
      },
      "execution_count": 2,
      "outputs": [
        {
          "output_type": "stream",
          "name": "stdout",
          "text": [
            "The maxHeap is \n",
            " PARENT : 84 LEFT CHILD : 22 RIGHT CHILD : 19\n",
            " PARENT : 22 LEFT CHILD : 17 RIGHT CHILD : 10\n",
            " PARENT : 19 LEFT CHILD : 5 RIGHT CHILD : 6\n",
            " PARENT : 17 LEFT CHILD : 3 RIGHT CHILD : 9\n",
            "The Max val is 84\n"
          ]
        }
      ]
    }
  ]
}