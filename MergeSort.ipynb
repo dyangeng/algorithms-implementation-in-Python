{
  "nbformat": 4,
  "nbformat_minor": 0,
  "metadata": {
    "colab": {
      "name": "MergeSort.ipynb",
      "provenance": [],
      "authorship_tag": "ABX9TyO/xzUpYTntjgCFq2QsNlBj",
      "include_colab_link": true
    },
    "kernelspec": {
      "name": "python3",
      "display_name": "Python 3"
    },
    "language_info": {
      "name": "python"
    }
  },
  "cells": [
    {
      "cell_type": "markdown",
      "metadata": {
        "id": "view-in-github",
        "colab_type": "text"
      },
      "source": [
        "<a href=\"https://colab.research.google.com/github/dyangeng/algorithms-implementation-in-Python/blob/main/MergeSort.ipynb\" target=\"_parent\"><img src=\"https://colab.research.google.com/assets/colab-badge.svg\" alt=\"Open In Colab\"/></a>"
      ]
    },
    {
      "cell_type": "markdown",
      "source": [
        "# Merge Sort\n"
      ],
      "metadata": {
        "id": "YMv4INQH-L3G"
      }
    },
    {
      "cell_type": "markdown",
      "source": [
        "Given an array size n, mergesorts resorts the array"
      ],
      "metadata": {
        "id": "AwDY1uKQ-PN7"
      }
    },
    {
      "cell_type": "markdown",
      "source": [
        "## Merge two sorted array"
      ],
      "metadata": {
        "id": "3u3mwe_IP5Kq"
      }
    },
    {
      "cell_type": "code",
      "execution_count": null,
      "metadata": {
        "id": "LkPSuJ684i0o"
      },
      "outputs": [],
      "source": [
        "def MergingList(first_list, second_list):\n",
        "  n1 = len(first_list)\n",
        "  n2 = len(second_list)\n",
        "  if n1 == 0:\n",
        "    return list(second_list)\n",
        "  elif n2 == 0:\n",
        "    return list(first_list)\n",
        "  else:\n",
        "    output_list = []\n",
        "    i1 = 0\n",
        "    i2 = 0\n",
        "    while( i1 < n1 or i2 < n2):\n",
        "      if i1 < n1 and i2 < n2:\n",
        "        if (first_list[i1] <= second_list[i2]):\n",
        "          output_list.append(first_list[i1])\n",
        "          i1 += 1\n",
        "        else:\n",
        "          output_list.append(second_list[i2])\n",
        "          i2 += 1\n",
        "      elif i1 < n1:\n",
        "        output_list.append(first_list[i1])\n",
        "        i1 += 1\n",
        "      else:\n",
        "        output_list.append(second_list[i2])\n",
        "        i2 += 1\n",
        "    return output_list"
      ]
    },
    {
      "cell_type": "code",
      "source": [
        "#test cases was taken from the Algorithms for Searching, Sorting, and Indexing Course offered via Coursera\n",
        "lst1 = MergingList([0, 2, 3, 7, 10], [1, 4, 5, 6, 7, 8, 9, 10, 11, 12])\n",
        "print('lst1: %s' % str(lst1))\n",
        "assert lst1 == [0, 1, 2, 3, 4, 5, 6, 7, 7, 8, 9, 10, 10, 11, 12]\n",
        "\n",
        "lst2 = MergingList([0,2],[1,3,6])\n",
        "print('lst2: %s' % str(lst2))\n",
        "assert lst2 == [0, 1, 2, 3, 6]\n",
        "\n",
        "lst3 = MergingList([0], [0])\n",
        "\n",
        "print('lst3: %s' % str(lst3))\n",
        "assert lst3 == [0, 0]\n",
        "\n",
        "lst4 = MergingList([], [0, 1, 5])\n",
        "print('lst4: %s' % str(lst4))\n",
        "assert lst4 == [0, 1, 5]\n",
        "\n",
        "lst5 = MergingList([0, 1, 5], [])\n",
        "print('lst5: %s' % str(lst5))\n",
        "assert lst5 == [0, 1, 5]"
      ],
      "metadata": {
        "colab": {
          "base_uri": "https://localhost:8080/"
        },
        "id": "s7J4BeRWMiE0",
        "outputId": "ed70be7e-3bd2-42e0-b01c-14dc017944fe"
      },
      "execution_count": null,
      "outputs": [
        {
          "output_type": "stream",
          "name": "stdout",
          "text": [
            "lst1: [0, 1, 2, 3, 4, 5, 6, 7, 7, 8, 9, 10, 10, 11, 12]\n",
            "lst2: [0, 1, 2, 3, 6]\n",
            "lst3: [0, 0]\n",
            "lst4: [0, 1, 5]\n",
            "lst5: [0, 1, 5]\n"
          ]
        }
      ]
    },
    {
      "cell_type": "markdown",
      "source": [
        "Function to swap the array"
      ],
      "metadata": {
        "id": "azMcOY8l-XD6"
      }
    },
    {
      "cell_type": "code",
      "source": [
        "def swap(lst, i, j):\n",
        "  n = len(lst)\n",
        "  assert (i >= 0 and i < n)\n",
        "  assert (j >= 0 and j < n)\n",
        "  (lst[i],lst[j]) = (lst[j], lst[i])\n",
        "  return"
      ],
      "metadata": {
        "id": "egOu7JPu-O78"
      },
      "execution_count": 3,
      "outputs": []
    },
    {
      "cell_type": "markdown",
      "source": [
        "Function to copy back the temporrary array back to main array list<br>"
      ],
      "metadata": {
        "id": "bjS-2ndNA1Ne"
      }
    },
    {
      "cell_type": "code",
      "source": [
        "def copy_back(output_list, lst, right, left):\n",
        "  assert (len(output_list) == right - left + 1)\n",
        "  for i in range(left, right + 1):\n",
        "    lst [i] = output_list[i - left]\n",
        "  return "
      ],
      "metadata": {
        "id": "8ubxCdTF8z7H"
      },
      "execution_count": 4,
      "outputs": []
    },
    {
      "cell_type": "markdown",
      "source": [
        "Function that mergers the arrays broken down in mergesoting function below"
      ],
      "metadata": {
        "id": "b8YWkkuWD-3n"
      }
    },
    {
      "cell_type": "code",
      "source": [
        "def merging(input_list, left, mid, right):\n",
        "  if left > mid or mid > right:\n",
        "    return\n",
        "  i1 = left\n",
        "  i2 = mid + 1\n",
        "  output_list = []\n",
        "  while (i1 <= mid or i2 <= right):\n",
        "    if (i1 <= mid and i2 <= right):\n",
        "      if (input_list[left] <= input_list[i2]):\n",
        "        output_list.append(input_list[i1])\n",
        "        i1 += 1\n",
        "      else:\n",
        "        output_list.append(input_list[i2])\n",
        "    elif (i1 <= mid):\n",
        "      output_list.append(input_list[i1])\n",
        "      i1 += 1\n",
        "    else:\n",
        "      output_list.append(input_list[i2])\n",
        "      i2 += 1\n",
        "    copy_back(output_list, input_list, left, right)\n",
        "    return\n"
      ],
      "metadata": {
        "id": "vPt6TTyg-hom"
      },
      "execution_count": 5,
      "outputs": []
    },
    {
      "cell_type": "markdown",
      "source": [
        "Function that breaks array into parts for sorting purposes"
      ],
      "metadata": {
        "id": "Su8Foh8QEQ0R"
      }
    },
    {
      "cell_type": "code",
      "source": [
        "def mergesorting(input_list, left, right):\n",
        "  if (left == right):\n",
        "    return\n",
        "  elif (left + 1 == right):\n",
        "    if (input_list[left] > input_list[right]):\n",
        "      swap (input_list, left, right)\n",
        "    else:\n",
        "      mid = (left + right) // 2\n",
        "      mergesorting(input_list, left, mid)\n",
        "      mergesorting(input_list, mid + 1, right)\n",
        "      merging(input_list, left, mid, right)"
      ],
      "metadata": {
        "id": "B5o8mstZBQpo"
      },
      "execution_count": 12,
      "outputs": []
    },
    {
      "cell_type": "code",
      "source": [
        "def mergesort(input_list):\n",
        "  if len(input_list) <= 1:\n",
        "    return\n",
        "  else:\n",
        "    mergesorting(input_list, 0, len(input_list)-1)"
      ],
      "metadata": {
        "id": "cDOzaGzkDeWG"
      },
      "execution_count": 13,
      "outputs": []
    },
    {
      "cell_type": "code",
      "source": [
        "##test cases was taken from the Algorithms for Searching, Sorting, and Indexing Course offered via Coursera\n",
        "lst = [0, 5, 6, 2, 19, -1, 2, 3, 0, 4, 5, 8]\n",
        "mergesort(lst)\n",
        "print(lst)\n",
        "\n",
        "lst1 = [0, 1, 2, 6, 18, 19, -20, -45, -23, 25, 56, 19, 81, 123, 122]\n",
        "mergesort(lst1)\n",
        "print(lst1)\n",
        "\n",
        "lst2 = [4,3,2,1]\n",
        "mergesort(lst2)\n",
        "print(lst2)\n",
        "\n",
        "lst4 = [1]\n",
        "mergesort(lst4)\n",
        "print(lst4)\n",
        "\n",
        "lst5 = []\n",
        "mergesort(lst5)\n",
        "print(lst5)"
      ],
      "metadata": {
        "colab": {
          "base_uri": "https://localhost:8080/"
        },
        "id": "Dh9CG2NiDrnk",
        "outputId": "41fc5265-146b-49f7-bdad-0ce59e3fa565"
      },
      "execution_count": 15,
      "outputs": [
        {
          "output_type": "stream",
          "name": "stdout",
          "text": [
            "[0, 5, 6, 2, 19, -1, 2, 3, 0, 4, 5, 8]\n",
            "[0, 1, 2, 6, 18, 19, -20, -45, -23, 25, 56, 19, 81, 123, 122]\n",
            "[4, 3, 2, 1]\n",
            "[1]\n",
            "[]\n"
          ]
        }
      ]
    }
  ]
}