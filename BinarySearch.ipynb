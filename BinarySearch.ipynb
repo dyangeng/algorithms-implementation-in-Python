{
  "nbformat": 4,
  "nbformat_minor": 0,
  "metadata": {
    "colab": {
      "name": "BinarySearch.ipynb",
      "provenance": [],
      "collapsed_sections": [],
      "authorship_tag": "ABX9TyNpLUVMc37LN+zqtszaWnZs",
      "include_colab_link": true
    },
    "kernelspec": {
      "name": "python3",
      "display_name": "Python 3"
    },
    "language_info": {
      "name": "python"
    }
  },
  "cells": [
    {
      "cell_type": "markdown",
      "metadata": {
        "id": "view-in-github",
        "colab_type": "text"
      },
      "source": [
        "<a href=\"https://colab.research.google.com/github/dyangeng/algorithms-implementation-in-Python/blob/main/BinarySearch.ipynb\" target=\"_parent\"><img src=\"https://colab.research.google.com/assets/colab-badge.svg\" alt=\"Open In Colab\"/></a>"
      ]
    },
    {
      "cell_type": "markdown",
      "source": [
        "## Binary Search"
      ],
      "metadata": {
        "id": "R8lZJ6Q1UKMq"
      }
    },
    {
      "cell_type": "markdown",
      "source": [
        "Given an array size n and an element, Binary Search is used to check wether can the element be found in the array\n"
      ],
      "metadata": {
        "id": "5w1RSYbbUVDL"
      }
    },
    {
      "cell_type": "code",
      "execution_count": 7,
      "metadata": {
        "id": "JWurk0-EUFot"
      },
      "outputs": [],
      "source": [
        "def Search(lst, elt, left, right):\n",
        "  if left > right:\n",
        "      return None\n",
        "  else:\n",
        "    mid = (left+ right)//2\n",
        "    if lst[mid] == elt:\n",
        "      return mid\n",
        "    elif lst[mid] < elt:\n",
        "      return Search(lst, elt,  mid + 1, right)\n",
        "    else:\n",
        "      return Search(lst, elt, left, mid - 1)"
      ]
    },
    {
      "cell_type": "code",
      "source": [
        "def binarySearch(lst, elt):\n",
        "  n = len(lst)\n",
        "  if elt < lst[0] or elt > lst[n - 1]:\n",
        "    return None\n",
        "  else:\n",
        "    return Search(lst, elt, 0, n - 1)"
      ],
      "metadata": {
        "id": "M-0imBwdXZez"
      },
      "execution_count": 8,
      "outputs": []
    },
    {
      "cell_type": "code",
      "source": [
        "#test cases was taken from the Algorithms for Searching, Sorting, and Indexing Course offered via Coursera\n",
        "print(\"Searching for 9 in list [0,2,3,4,6,9,12]\")\n",
        "print(binarySearch([0,2,3,4,6,9,12], 9))\n",
        "\n",
        "print(\"Searching for 8 in list [1, 3, 4, 6, 8, 9,10, 11, 12, 15]\")\n",
        "print(binarySearch([1, 3, 4, 6, 8, 9,10, 11, 12, 15], 8))\n",
        "\n",
        "print(\"Searching for 5 in list [1, 3, 4, 6, 8, 9,10, 11, 12, 15]\")\n",
        "print(binarySearch([1, 3, 4, 6, 8, 9,10, 11, 12, 15], 5))\n",
        "\n",
        "print(\"Searching for 0 in list [0,2]\")\n",
        "print(binarySearch([0,2], 0))\n",
        "\n",
        "print(\"Searching for 1 in list [0,2]\")\n",
        "print(binarySearch([0,2], 1))\n",
        "\n",
        "print(\"Searching for 2 in list [0,2]\")\n",
        "print(binarySearch([0,2], 2))\n",
        "\n",
        "print(\"Searching for 1 in list [1]\")\n",
        "print(binarySearch([1], 1))\n",
        "\n",
        "print(\"Searching for 2 in list [1]\")\n",
        "print(binarySearch([1], 2))\n"
      ],
      "metadata": {
        "colab": {
          "base_uri": "https://localhost:8080/"
        },
        "id": "IsayhdAxn_dX",
        "outputId": "13bf5223-3428-426a-e0b9-fd06827dc2fb"
      },
      "execution_count": 9,
      "outputs": [
        {
          "output_type": "stream",
          "name": "stdout",
          "text": [
            "Searching for 9 in list [0,2,3,4,6,9,12]\n",
            "5\n",
            "Searching for 8 in list [1, 3, 4, 6, 8, 9,10, 11, 12, 15]\n",
            "4\n",
            "Searching for 5 in list [1, 3, 4, 6, 8, 9,10, 11, 12, 15]\n",
            "None\n",
            "Searching for 0 in list [0,2]\n",
            "0\n",
            "Searching for 1 in list [0,2]\n",
            "None\n",
            "Searching for 2 in list [0,2]\n",
            "1\n",
            "Searching for 1 in list [1]\n",
            "0\n",
            "Searching for 2 in list [1]\n",
            "None\n"
          ]
        }
      ]
    },
    {
      "cell_type": "code",
      "source": [
        "def SearchUsingWhileLoop(lst, elt):\n",
        "  n = len(lst)\n",
        "  if lst[0] > elt or lst[n - 1] < elt:\n",
        "    return None\n",
        "  else:\n",
        "    left = 0\n",
        "    right = n - 1\n",
        "    while (left <= right):\n",
        "      mid = (right + left)//2\n",
        "      if lst[mid] == elt:\n",
        "        return mid\n",
        "      elif lst[mid] > elt:\n",
        "        right = mid - 1\n",
        "      else:\n",
        "        left = mid + 1\n",
        "  return None"
      ],
      "metadata": {
        "id": "3V5NxCNBqF3u"
      },
      "execution_count": 12,
      "outputs": []
    },
    {
      "cell_type": "code",
      "source": [
        "print(\"Searching for 9 in list [0,2,3,4,6,9,12]\")\n",
        "print(SearchUsingWhileLoop([0,2,3,4,6,9,12], 9))\n",
        "\n",
        "print(\"Searching for 8 in list [1, 3, 4, 6, 8, 9,10, 11, 12, 15]\")\n",
        "print(SearchUsingWhileLoop([1, 3, 4, 6, 8, 9,10, 11, 12, 15], 8))\n",
        "\n",
        "print(\"Searching for 5 in list [1, 3, 4, 6, 8, 9,10, 11, 12, 15]\")\n",
        "print(SearchUsingWhileLoop([1, 3, 4, 6, 8, 9,10, 11, 12, 15], 5))\n",
        "\n",
        "print(\"Searching for 0 in list [0,2]\")\n",
        "print(SearchUsingWhileLoop([0,2], 0))\n",
        "\n",
        "print(\"Searching for 1 in list [0,2]\")\n",
        "print(SearchUsingWhileLoop([0,2], 1))\n",
        "\n",
        "print(\"Searching for 2 in list [0,2]\")\n",
        "print(SearchUsingWhileLoop([0,2], 2))\n",
        "\n",
        "print(\"Searching for 1 in list [1]\")\n",
        "print(SearchUsingWhileLoop([1], 1))\n",
        "\n",
        "print(\"Searching for 2 in list [1]\")\n",
        "print(SearchUsingWhileLoop([1], 2))\n"
      ],
      "metadata": {
        "colab": {
          "base_uri": "https://localhost:8080/"
        },
        "id": "QaJOz5HUsWXf",
        "outputId": "6770f69a-f578-4220-91d2-ed9e7cd31204"
      },
      "execution_count": 13,
      "outputs": [
        {
          "output_type": "stream",
          "name": "stdout",
          "text": [
            "Searching for 9 in list [0,2,3,4,6,9,12]\n",
            "5\n",
            "Searching for 8 in list [1, 3, 4, 6, 8, 9,10, 11, 12, 15]\n",
            "4\n",
            "Searching for 5 in list [1, 3, 4, 6, 8, 9,10, 11, 12, 15]\n",
            "None\n",
            "Searching for 0 in list [0,2]\n",
            "0\n",
            "Searching for 1 in list [0,2]\n",
            "None\n",
            "Searching for 2 in list [0,2]\n",
            "1\n",
            "Searching for 1 in list [1]\n",
            "0\n",
            "Searching for 2 in list [1]\n",
            "None\n"
          ]
        }
      ]
    }
  ]
}