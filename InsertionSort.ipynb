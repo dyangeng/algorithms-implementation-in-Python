{
  "nbformat": 4,
  "nbformat_minor": 0,
  "metadata": {
    "colab": {
      "name": "InsertionSort.ipynb",
      "provenance": [],
      "authorship_tag": "ABX9TyMBroNWIxpslfo904X5E3mf",
      "include_colab_link": true
    },
    "kernelspec": {
      "name": "python3",
      "display_name": "Python 3"
    },
    "language_info": {
      "name": "python"
    }
  },
  "cells": [
    {
      "cell_type": "markdown",
      "metadata": {
        "id": "view-in-github",
        "colab_type": "text"
      },
      "source": [
        "<a href=\"https://colab.research.google.com/github/dyangeng/algorithms-implementation-in-Python/blob/main/InsertionSort.ipynb\" target=\"_parent\"><img src=\"https://colab.research.google.com/assets/colab-badge.svg\" alt=\"Open In Colab\"/></a>"
      ]
    },
    {
      "cell_type": "markdown",
      "source": [
        "Pseudocode:\n",
        "\n",
        "Insertion-Sort (A) <br>\n",
        "&nbsp;&nbsp;&nbsp;for j = 2 to A.length<br>\n",
        "&nbsp;&nbsp;&nbsp;key = A[j]<br>\n",
        "&nbsp;&nbsp;&nbsp;// Insert A[j] into the sorted sequence A[i..j-1]<br>\n",
        "&nbsp;&nbsp;&nbsp;i = j - 1<br>\n",
        "&nbsp;&nbsp;&nbsp;&nbsp;&nbsp;&nbsp; while i > 0 and A[i] > key <br>\n",
        "&nbsp;&nbsp;&nbsp;&nbsp;&nbsp;&nbsp;&nbsp;&nbsp;&nbsp;A[i + 1] = i <br>\n",
        "&nbsp;&nbsp;&nbsp;&nbsp;&nbsp;&nbsp;&nbsp;&nbsp;&nbsp;i = i - 1 <br>\n",
        "&nbsp;&nbsp;&nbsp;&nbsp;&nbsp;&nbsp;A[i + 1] = key<br>\n",
        "     "
      ],
      "metadata": {
        "id": "I_IAp69aLDgf"
      }
    },
    {
      "cell_type": "code",
      "execution_count": 1,
      "metadata": {
        "id": "B3UAkWJ_KQMB"
      },
      "outputs": [],
      "source": [
        "def InsertionSort(A):\n",
        "  for j in range(1 , len(A)):\n",
        "    key = A[j]\n",
        "    i = j - 1\n",
        "    while i > 0 and A[i] > key:\n",
        "      A[i + 1] = A[i]\n",
        "      i -= 1\n",
        "    A[i + 1] = key\n",
        "  print (A)\n"
      ]
    },
    {
      "cell_type": "code",
      "source": [
        "InsertionSort([1,5,4,6,9,2,3,4,5,7,2,6,5,7,10,25,36,78])\n",
        "InsertionSort([4,5,7,2,3,2,1,5,1,2,3,4,1,2,2,43,626,3,4,2,18])"
      ],
      "metadata": {
        "colab": {
          "base_uri": "https://localhost:8080/"
        },
        "id": "YKG7e-8LMxRY",
        "outputId": "4c30a835-0803-4452-94cc-e1e03cadc37d"
      },
      "execution_count": 2,
      "outputs": [
        {
          "output_type": "stream",
          "name": "stdout",
          "text": [
            "[1, 2, 2, 3, 4, 4, 5, 5, 5, 6, 6, 7, 7, 9, 10, 25, 36, 78]\n",
            "[4, 1, 1, 1, 2, 2, 2, 2, 2, 2, 3, 3, 3, 4, 4, 5, 5, 7, 18, 43, 626]\n"
          ]
        }
      ]
    }
  ]
}