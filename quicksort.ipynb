{
  "nbformat": 4,
  "nbformat_minor": 0,
  "metadata": {
    "colab": {
      "name": "quicksort.ipynb",
      "provenance": [],
      "authorship_tag": "ABX9TyOj2zCHGkL08Rxfmcr/yyMQ",
      "include_colab_link": true
    },
    "kernelspec": {
      "name": "python3",
      "display_name": "Python 3"
    },
    "language_info": {
      "name": "python"
    }
  },
  "cells": [
    {
      "cell_type": "markdown",
      "metadata": {
        "id": "view-in-github",
        "colab_type": "text"
      },
      "source": [
        "<a href=\"https://colab.research.google.com/github/dyangeng/algorithms-implementation-in-Python/blob/main/quicksort.ipynb\" target=\"_parent\"><img src=\"https://colab.research.google.com/assets/colab-badge.svg\" alt=\"Open In Colab\"/></a>"
      ]
    },
    {
      "cell_type": "code",
      "execution_count": 11,
      "metadata": {
        "colab": {
          "base_uri": "https://localhost:8080/"
        },
        "id": "INEsWY7YpMc8",
        "outputId": "dd6dd23d-f1d9-4bca-c96e-595e3b631813"
      },
      "outputs": [
        {
          "output_type": "stream",
          "name": "stdout",
          "text": [
            "[9, 5, 4, 2, 8, 1, 3, 6, 10]\n",
            "[6, 5, 4, 2, 8, 1, 3, 9, 10]\n",
            "[6, 5, 4, 2, 3, 1, 8, 9, 10]\n",
            "[1, 5, 4, 2, 3, 6, 8, 9, 10]\n",
            "[1, 5, 4, 2, 3, 6, 8, 9, 10]\n",
            "[1, 3, 4, 2, 5, 6, 8, 9, 10]\n",
            "[1, 3, 2, 4, 5, 6, 8, 9, 10]\n",
            "[1, 2, 3, 4, 5, 6, 8, 9, 10]\n"
          ]
        },
        {
          "output_type": "execute_result",
          "data": {
            "text/plain": [
              "[1, 2, 3, 4, 5, 6, 8, 9, 10]"
            ]
          },
          "metadata": {},
          "execution_count": 11
        }
      ],
      "source": [
        "#Taken and modified from the book: Algorithms for dummies\n",
        "data = [9,5,4,2,8,1,10,6,3]\n",
        "\n",
        "def partision(data, left, right):\n",
        "  pivot = data[left]\n",
        "  lIndex  = left + 1\n",
        "  rIndex = right\n",
        "  while True:\n",
        "    while lIndex <= rIndex and data[lIndex] <= pivot:\n",
        "      lIndex += 1\n",
        "    while rIndex >= lIndex and data[rIndex] >= pivot:\n",
        "      rIndex -= 1\n",
        "    if rIndex <= lIndex:\n",
        "      break\n",
        "    data[lIndex], data[rIndex] = \\\n",
        "      data[rIndex] , data[lIndex]\n",
        "    print(data)\n",
        "\n",
        "  data[left], data[rIndex] = data[rIndex], data[left]\n",
        "  print(data)\n",
        "  return rIndex\n",
        "\n",
        "def quickSort(data, left, right):\n",
        "  if right <= left:\n",
        "    return\n",
        "  else:\n",
        "    pivot = partision(data, left, right)\n",
        "    quickSort(data, left, pivot - 1)\n",
        "    quickSort(data, pivot + 1, right)\n",
        "  \n",
        "  return data\n",
        "\n",
        "quickSort(data, 0, len(data) - 1)"
      ]
    },
    {
      "cell_type": "code",
      "source": [
        ""
      ],
      "metadata": {
        "id": "En-TdAFCuSiu"
      },
      "execution_count": null,
      "outputs": []
    }
  ]
}